{
 "cells": [
  {
   "cell_type": "code",
   "execution_count": 3,
   "metadata": {},
   "outputs": [],
   "source": [
    "import pandas as pd"
   ]
  },
  {
   "cell_type": "code",
   "execution_count": 5,
   "metadata": {},
   "outputs": [],
   "source": [
    "df = pd.read_csv('./Test_inv.csv', index_col='serial number')"
   ]
  },
  {
   "cell_type": "code",
   "execution_count": 6,
   "metadata": {},
   "outputs": [
    {
     "data": {
      "text/plain": [
       "(259231, 10)"
      ]
     },
     "execution_count": 6,
     "metadata": {},
     "output_type": "execute_result"
    }
   ],
   "source": [
    "df.shape"
   ]
  },
  {
   "cell_type": "code",
   "execution_count": 7,
   "metadata": {},
   "outputs": [
    {
     "data": {
      "text/html": [
       "<div>\n",
       "<style scoped>\n",
       "    .dataframe tbody tr th:only-of-type {\n",
       "        vertical-align: middle;\n",
       "    }\n",
       "\n",
       "    .dataframe tbody tr th {\n",
       "        vertical-align: top;\n",
       "    }\n",
       "\n",
       "    .dataframe thead th {\n",
       "        text-align: right;\n",
       "    }\n",
       "</style>\n",
       "<table border=\"1\" class=\"dataframe\">\n",
       "  <thead>\n",
       "    <tr style=\"text-align: right;\">\n",
       "      <th></th>\n",
       "      <th>machine group name</th>\n",
       "      <th>machinary code</th>\n",
       "      <th>machine name</th>\n",
       "      <th>address</th>\n",
       "      <th>product name</th>\n",
       "      <th>in stock</th>\n",
       "      <th>capacity</th>\n",
       "      <th>out of stock</th>\n",
       "      <th>Time</th>\n",
       "      <th>Soldout</th>\n",
       "    </tr>\n",
       "    <tr>\n",
       "      <th>serial number</th>\n",
       "      <th></th>\n",
       "      <th></th>\n",
       "      <th></th>\n",
       "      <th></th>\n",
       "      <th></th>\n",
       "      <th></th>\n",
       "      <th></th>\n",
       "      <th></th>\n",
       "      <th></th>\n",
       "      <th></th>\n",
       "    </tr>\n",
       "  </thead>\n",
       "  <tbody>\n",
       "    <tr>\n",
       "      <th>1</th>\n",
       "      <td>ALLMachine</td>\n",
       "      <td>2005150013</td>\n",
       "      <td>Sidir-013</td>\n",
       "      <td>0.0</td>\n",
       "      <td>7up soft</td>\n",
       "      <td>0</td>\n",
       "      <td>10</td>\n",
       "      <td>10</td>\n",
       "      <td>2022-11-25 00:00:00</td>\n",
       "      <td>1.0</td>\n",
       "    </tr>\n",
       "    <tr>\n",
       "      <th>2</th>\n",
       "      <td>ALLMachine</td>\n",
       "      <td>2005150013</td>\n",
       "      <td>Sidir-013</td>\n",
       "      <td>0.0</td>\n",
       "      <td>Asaleh juice</td>\n",
       "      <td>3</td>\n",
       "      <td>3</td>\n",
       "      <td>0</td>\n",
       "      <td>2022-11-25 00:00:00</td>\n",
       "      <td>0.0</td>\n",
       "    </tr>\n",
       "    <tr>\n",
       "      <th>3</th>\n",
       "      <td>ALLMachine</td>\n",
       "      <td>2005150013</td>\n",
       "      <td>Sidir-013</td>\n",
       "      <td>0.0</td>\n",
       "      <td>avocado juice</td>\n",
       "      <td>0</td>\n",
       "      <td>3</td>\n",
       "      <td>3</td>\n",
       "      <td>2022-11-25 00:00:00</td>\n",
       "      <td>1.0</td>\n",
       "    </tr>\n",
       "    <tr>\n",
       "      <th>4</th>\n",
       "      <td>ALLMachine</td>\n",
       "      <td>2005150013</td>\n",
       "      <td>Sidir-013</td>\n",
       "      <td>0.0</td>\n",
       "      <td>Awar Qalb juice</td>\n",
       "      <td>4</td>\n",
       "      <td>4</td>\n",
       "      <td>0</td>\n",
       "      <td>2022-11-25 00:00:00</td>\n",
       "      <td>0.0</td>\n",
       "    </tr>\n",
       "    <tr>\n",
       "      <th>5</th>\n",
       "      <td>ALLMachine</td>\n",
       "      <td>2005150013</td>\n",
       "      <td>Sidir-013</td>\n",
       "      <td>0.0</td>\n",
       "      <td>Caesar salad</td>\n",
       "      <td>0</td>\n",
       "      <td>4</td>\n",
       "      <td>4</td>\n",
       "      <td>2022-11-25 00:00:00</td>\n",
       "      <td>1.0</td>\n",
       "    </tr>\n",
       "  </tbody>\n",
       "</table>\n",
       "</div>"
      ],
      "text/plain": [
       "              machine group name  machinary code machine name  address  \\\n",
       "serial number                                                            \n",
       "1                     ALLMachine      2005150013    Sidir-013      0.0   \n",
       "2                     ALLMachine      2005150013    Sidir-013      0.0   \n",
       "3                     ALLMachine      2005150013    Sidir-013      0.0   \n",
       "4                     ALLMachine      2005150013    Sidir-013      0.0   \n",
       "5                     ALLMachine      2005150013    Sidir-013      0.0   \n",
       "\n",
       "                  product name  in stock  capacity  out of stock  \\\n",
       "serial number                                                      \n",
       "1                     7up soft         0        10            10   \n",
       "2                 Asaleh juice         3         3             0   \n",
       "3                avocado juice         0         3             3   \n",
       "4              Awar Qalb juice         4         4             0   \n",
       "5                 Caesar salad         0         4             4   \n",
       "\n",
       "                              Time  Soldout  \n",
       "serial number                                \n",
       "1              2022-11-25 00:00:00      1.0  \n",
       "2              2022-11-25 00:00:00      0.0  \n",
       "3              2022-11-25 00:00:00      1.0  \n",
       "4              2022-11-25 00:00:00      0.0  \n",
       "5              2022-11-25 00:00:00      1.0  "
      ]
     },
     "execution_count": 7,
     "metadata": {},
     "output_type": "execute_result"
    }
   ],
   "source": [
    "df.head()"
   ]
  },
  {
   "cell_type": "code",
   "execution_count": null,
   "metadata": {},
   "outputs": [],
   "source": [
    "df.describe()"
   ]
  },
  {
   "attachments": {},
   "cell_type": "markdown",
   "metadata": {},
   "source": [
    "Get all the machines in the data\n"
   ]
  },
  {
   "cell_type": "code",
   "execution_count": 10,
   "metadata": {},
   "outputs": [],
   "source": [
    "machines = df.groupby(by='machine name')"
   ]
  },
  {
   "attachments": {},
   "cell_type": "markdown",
   "metadata": {},
   "source": [
    "Get sum instock, capacity, out of stock for every machine"
   ]
  },
  {
   "cell_type": "code",
   "execution_count": null,
   "metadata": {},
   "outputs": [],
   "source": [
    "machines[['in stock', 'capacity', 'out of stock', 'Time']].agg([sum ])"
   ]
  },
  {
   "attachments": {},
   "cell_type": "markdown",
   "metadata": {},
   "source": [
    "Group the data by products to get a view of the out of stock and some info about the machines"
   ]
  },
  {
   "cell_type": "code",
   "execution_count": null,
   "metadata": {},
   "outputs": [],
   "source": [
    "df.sort_values(by='out of stock', ascending=False).groupby('machine name').agg(sum)"
   ]
  },
  {
   "cell_type": "code",
   "execution_count": 33,
   "metadata": {},
   "outputs": [
    {
     "data": {
      "text/html": [
       "<div>\n",
       "<style scoped>\n",
       "    .dataframe tbody tr th:only-of-type {\n",
       "        vertical-align: middle;\n",
       "    }\n",
       "\n",
       "    .dataframe tbody tr th {\n",
       "        vertical-align: top;\n",
       "    }\n",
       "\n",
       "    .dataframe thead tr th {\n",
       "        text-align: left;\n",
       "    }\n",
       "\n",
       "    .dataframe thead tr:last-of-type th {\n",
       "        text-align: right;\n",
       "    }\n",
       "</style>\n",
       "<table border=\"1\" class=\"dataframe\">\n",
       "  <thead>\n",
       "    <tr>\n",
       "      <th></th>\n",
       "      <th></th>\n",
       "      <th>in stock</th>\n",
       "      <th>capacity</th>\n",
       "      <th>out of stock</th>\n",
       "    </tr>\n",
       "    <tr>\n",
       "      <th></th>\n",
       "      <th></th>\n",
       "      <th>sum</th>\n",
       "      <th>sum</th>\n",
       "      <th>sum</th>\n",
       "    </tr>\n",
       "    <tr>\n",
       "      <th>Time</th>\n",
       "      <th>machine name</th>\n",
       "      <th></th>\n",
       "      <th></th>\n",
       "      <th></th>\n",
       "    </tr>\n",
       "  </thead>\n",
       "  <tbody>\n",
       "    <tr>\n",
       "      <th rowspan=\"5\" valign=\"top\">2022-11-25 00:00:00</th>\n",
       "      <th>Elm1 M 155</th>\n",
       "      <td>0</td>\n",
       "      <td>65</td>\n",
       "      <td>65</td>\n",
       "    </tr>\n",
       "    <tr>\n",
       "      <th>Arabian Center 134</th>\n",
       "      <td>96</td>\n",
       "      <td>167</td>\n",
       "      <td>71</td>\n",
       "    </tr>\n",
       "    <tr>\n",
       "      <th>Citc 131</th>\n",
       "      <td>0</td>\n",
       "      <td>150</td>\n",
       "      <td>150</td>\n",
       "    </tr>\n",
       "    <tr>\n",
       "      <th>Court1 165</th>\n",
       "      <td>33</td>\n",
       "      <td>150</td>\n",
       "      <td>117</td>\n",
       "    </tr>\n",
       "    <tr>\n",
       "      <th>Dallah Hospital-157</th>\n",
       "      <td>98</td>\n",
       "      <td>169</td>\n",
       "      <td>71</td>\n",
       "    </tr>\n",
       "    <tr>\n",
       "      <th>...</th>\n",
       "      <th>...</th>\n",
       "      <td>...</td>\n",
       "      <td>...</td>\n",
       "      <td>...</td>\n",
       "    </tr>\n",
       "    <tr>\n",
       "      <th rowspan=\"5\" valign=\"top\">2022-11-30 00:00:00</th>\n",
       "      <th>University 136</th>\n",
       "      <td>78</td>\n",
       "      <td>188</td>\n",
       "      <td>110</td>\n",
       "    </tr>\n",
       "    <tr>\n",
       "      <th>University 189</th>\n",
       "      <td>61</td>\n",
       "      <td>135</td>\n",
       "      <td>74</td>\n",
       "    </tr>\n",
       "    <tr>\n",
       "      <th>Waha 077</th>\n",
       "      <td>33</td>\n",
       "      <td>59</td>\n",
       "      <td>26</td>\n",
       "    </tr>\n",
       "    <tr>\n",
       "      <th>Yasmin 119</th>\n",
       "      <td>0</td>\n",
       "      <td>72</td>\n",
       "      <td>72</td>\n",
       "    </tr>\n",
       "    <tr>\n",
       "      <th>swcc2 034</th>\n",
       "      <td>5</td>\n",
       "      <td>196</td>\n",
       "      <td>191</td>\n",
       "    </tr>\n",
       "  </tbody>\n",
       "</table>\n",
       "<p>12568 rows × 3 columns</p>\n",
       "</div>"
      ],
      "text/plain": [
       "                                        in stock capacity out of stock\n",
       "                                             sum      sum          sum\n",
       "Time                machine name                                      \n",
       "2022-11-25 00:00:00  Elm1 M 155                0       65           65\n",
       "                    Arabian Center 134        96      167           71\n",
       "                    Citc 131                   0      150          150\n",
       "                    Court1 165                33      150          117\n",
       "                    Dallah Hospital-157       98      169           71\n",
       "...                                          ...      ...          ...\n",
       "2022-11-30 00:00:00 University 136            78      188          110\n",
       "                    University 189            61      135           74\n",
       "                    Waha 077                  33       59           26\n",
       "                    Yasmin 119                 0       72           72\n",
       "                    swcc2 034                  5      196          191\n",
       "\n",
       "[12568 rows x 3 columns]"
      ]
     },
     "execution_count": 33,
     "metadata": {},
     "output_type": "execute_result"
    }
   ],
   "source": [
    "macines_time = df.groupby(['Time', 'machine name'])\n",
    "\n",
    "macines_time[['in stock', 'out of stock']].agg([sum])\n"
   ]
  }
 ],
 "metadata": {
  "kernelspec": {
   "display_name": "venv",
   "language": "python",
   "name": "python3"
  },
  "language_info": {
   "codemirror_mode": {
    "name": "ipython",
    "version": 3
   },
   "file_extension": ".py",
   "mimetype": "text/x-python",
   "name": "python",
   "nbconvert_exporter": "python",
   "pygments_lexer": "ipython3",
   "version": "3.10.7"
  },
  "orig_nbformat": 4
 },
 "nbformat": 4,
 "nbformat_minor": 2
}
